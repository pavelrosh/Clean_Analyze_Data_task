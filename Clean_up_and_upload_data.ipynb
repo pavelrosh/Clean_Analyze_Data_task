{
 "cells": [
  {
   "cell_type": "code",
   "execution_count": 1,
   "metadata": {},
   "outputs": [],
   "source": [
    "import re\n",
    "import pandas as pd\n",
    "import pandas_gbq"
   ]
  },
  {
   "cell_type": "code",
   "execution_count": 2,
   "metadata": {},
   "outputs": [],
   "source": [
    "project_id='testtaskproject-265509'\n",
    "table_id = 'your_dataset' + '.orders_products_merged'"
   ]
  },
  {
   "cell_type": "markdown",
   "metadata": {},
   "source": [
    "## Load data to df."
   ]
  },
  {
   "cell_type": "code",
   "execution_count": 3,
   "metadata": {},
   "outputs": [],
   "source": [
    "products = pd.read_csv('data_source/products.csv')"
   ]
  },
  {
   "cell_type": "code",
   "execution_count": 4,
   "metadata": {},
   "outputs": [],
   "source": [
    "orders = pd.read_csv('data_source/orders_s.csv')"
   ]
  },
  {
   "cell_type": "markdown",
   "metadata": {},
   "source": [
    "## Clean up products data."
   ]
  },
  {
   "cell_type": "markdown",
   "metadata": {},
   "source": [
    "### Logic:\n",
    "    - product data looks ok, except of product_id column, so need to proccess it."
   ]
  },
  {
   "cell_type": "code",
   "execution_count": 5,
   "metadata": {},
   "outputs": [],
   "source": [
    "products.product_id = pd.to_numeric(products.product_id, downcast='integer')"
   ]
  },
  {
   "cell_type": "markdown",
   "metadata": {},
   "source": [
    "## Clean up orders data."
   ]
  },
  {
   "cell_type": "markdown",
   "metadata": {},
   "source": [
    "### Logic:\n",
    "   1. Cast order_created_datetime field to datetime\n",
    "   2. Cast sum field to numeric type(float)\n",
    "   3. Create 'wrong_name' bool type column for marking bad formatted/duplicated names.\n",
    "   4. Clean up and cast product_id.\n",
    "   5. Remove duplicated data.\n",
    "   6. Merge orders and product tables by product_id.\n",
    "   7. Write merged data to csv for future downloading to Google Cloud."
   ]
  },
  {
   "cell_type": "code",
   "execution_count": 6,
   "metadata": {},
   "outputs": [],
   "source": [
    "# Cast order_created_datetime to datetime.\n",
    "\n",
    "orders.order_created_datetime = pd.to_datetime(orders.order_created_datetime)"
   ]
  },
  {
   "cell_type": "code",
   "execution_count": 7,
   "metadata": {},
   "outputs": [],
   "source": [
    "# Cast sum field to numeric type(float)\n",
    "\n",
    "orders['sum'] = orders['sum'].apply(lambda x: float(x.replace(',', '.')))"
   ]
  },
  {
   "cell_type": "code",
   "execution_count": 8,
   "metadata": {},
   "outputs": [],
   "source": [
    "# This function return true(mean: name format is wrong) \n",
    "# if (name, surname, patronymic) duplicated or length of surname/patronymic too short. \n",
    "\n",
    "def check_duplicates(row):\n",
    "    name = row['name'].strip()\n",
    "    surname = row['surname'].strip()\n",
    "    patronymic = row['patronymic'].strip()\n",
    "    if (name == surname or surname == patronymic or name == patronymic):\n",
    "        return True\n",
    "    elif (len(surname) < 2 or len(patronymic) < 2):\n",
    "        return True\n",
    "    else:\n",
    "        return False"
   ]
  },
  {
   "cell_type": "code",
   "execution_count": 9,
   "metadata": {},
   "outputs": [],
   "source": [
    "# Create 'wrong_name' bool type column for marking bad formatted/duplicated names.\n",
    "\n",
    "orders['wrong_name'] = orders[['name', 'surname', 'patronymic']].apply(axis=1, func=check_duplicates)"
   ]
  },
  {
   "cell_type": "code",
   "execution_count": 10,
   "metadata": {},
   "outputs": [],
   "source": [
    "# This function cut number(id) from product_id string(object) and casts it to int.\n",
    "\n",
    "def clean_product_id(product_id):\n",
    "    if product_id.isnumeric():\n",
    "        return int(product_id)\n",
    "    else:\n",
    "        product_id = re.findall(r'\\d+', product_id)[0]\n",
    "        return int(product_id)"
   ]
  },
  {
   "cell_type": "code",
   "execution_count": 11,
   "metadata": {},
   "outputs": [],
   "source": [
    "# Clean up and cast product_id.\n",
    "\n",
    "orders.product_id = orders.product_id.apply(func=clean_product_id)"
   ]
  },
  {
   "cell_type": "code",
   "execution_count": 12,
   "metadata": {},
   "outputs": [],
   "source": [
    "# Remove duplicated data\n",
    "\n",
    "subset = list(orders.columns)\n",
    "subset.remove('Unnamed: 0')\n",
    "orders.drop_duplicates(subset=subset,inplace=True)\n"
   ]
  },
  {
   "cell_type": "code",
   "execution_count": 13,
   "metadata": {},
   "outputs": [],
   "source": [
    "# merge orders and product tables by product_id.\n",
    "\n",
    "data = pd.merge(orders, products, on='product_id')"
   ]
  },
  {
   "cell_type": "code",
   "execution_count": 14,
   "metadata": {},
   "outputs": [],
   "source": [
    "# Need to rename Unnamed: 0 column, because gbq doesn't works with spaces in table column names.\n",
    "\n",
    "data.rename(columns={'Unnamed: 0': 'unnamed'}, inplace=True)"
   ]
  },
  {
   "cell_type": "code",
   "execution_count": 15,
   "metadata": {},
   "outputs": [],
   "source": [
    "# Write merged data to csv.\n",
    "\n",
    "data.to_csv('orders_products_cleaned_merged.csv', index=False)"
   ]
  },
  {
   "cell_type": "markdown",
   "metadata": {},
   "source": [
    "### Upload  merged and cleaned up data to gbq"
   ]
  },
  {
   "cell_type": "code",
   "execution_count": 16,
   "metadata": {},
   "outputs": [],
   "source": [
    "pandas_gbq.to_gbq(data, table_id, project_id=project_id, if_exists='replace')"
   ]
  }
 ],
 "metadata": {
  "kernelspec": {
   "display_name": "Python 3",
   "language": "python",
   "name": "python3"
  },
  "language_info": {
   "codemirror_mode": {
    "name": "ipython",
    "version": 3
   },
   "file_extension": ".py",
   "mimetype": "text/x-python",
   "name": "python",
   "nbconvert_exporter": "python",
   "pygments_lexer": "ipython3",
   "version": "3.7.3"
  }
 },
 "nbformat": 4,
 "nbformat_minor": 2
}
